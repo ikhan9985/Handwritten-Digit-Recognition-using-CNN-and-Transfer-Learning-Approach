{
 "cells": [
  {
   "cell_type": "code",
   "execution_count": 17,
   "metadata": {},
   "outputs": [],
   "source": [
    "import glob\n",
    "from PIL import Image\n",
    "import os\n",
    "import numpy as np\n",
    "import matplotlib.pyplot as plt\n",
    "\n",
    "def load_labels(myDir):\n",
    "    labels=[]\n",
    "    fileList = glob.glob(myDir)\n",
    "    for fname in fileList:\n",
    "        fileName = os.path.basename(fname)\n",
    "        curLabel = fileName.split(\"-\")[0]\n",
    "        labels.append(curLabel)\n",
    "    return np.asarray(labels)\n",
    "        \n",
    "\n",
    "def load_data(myDir):\n",
    "    fileList = glob.glob(myDir)    \n",
    "    x = np.array([np.array(Image.open(fname)).flatten() for fname in fileList])\n",
    "    x=x/255\n",
    "    return x\n",
    "    \n",
    "\n",
    "#(X_train, y_train), (X_test, y_test) = mnist.load_data()\n",
    "\n",
    "myDir =\"train/*.png\"\n",
    "X_train = load_data(myDir)\n",
    "Y_train = load_labels(myDir)\n",
    "\n",
    "\n",
    "myDir2 =\"eval/*.png\"\n",
    "X_test = load_data(myDir2)\n",
    "Y_test = load_labels(myDir2)\n",
    "X_train\n",
    "\n",
    "myDir3 =\"valid/*.png\"\n",
    "X_valid = load_data(myDir3)\n",
    "Y_valid = load_labels(myDir3)"
   ]
  },
  {
   "cell_type": "code",
   "execution_count": 18,
   "metadata": {},
   "outputs": [],
   "source": [
    "from keras.models import Sequential\n",
    "from keras.layers import Dense\n",
    "from keras.layers import Dropout\n",
    "from keras.utils import np_utils\n",
    "from keras.wrappers.scikit_learn import KerasClassifier\n",
    "import numpy"
   ]
  },
  {
   "cell_type": "code",
   "execution_count": 19,
   "metadata": {},
   "outputs": [],
   "source": [
    "# one hot encode outputs\n",
    "Y_train = np_utils.to_categorical(Y_train)\n",
    "Y_test = np_utils.to_categorical(Y_test)\n",
    "Y_valid = np_utils.to_categorical(Y_valid)\n",
    "num_classes = Y_test.shape[1]"
   ]
  },
  {
   "cell_type": "code",
   "execution_count": 20,
   "metadata": {},
   "outputs": [
    {
     "name": "stdout",
     "output_type": "stream",
     "text": [
      "(21780, 10)\n",
      "(7000, 10)\n",
      "(7000, 10)\n",
      "(21780, 784)\n",
      "(7000, 784)\n",
      "(7000, 784)\n"
     ]
    }
   ],
   "source": [
    "print(Y_test.shape)\n",
    "print(Y_train.shape)\n",
    "print(Y_valid.shape)\n",
    "\n",
    "print(X_test.shape)\n",
    "print(X_train.shape)\n",
    "print(X_valid.shape)\n"
   ]
  },
  {
   "cell_type": "markdown",
   "metadata": {},
   "source": [
    "# Task 1: Convolutional Neural Network (CNN)"
   ]
  },
  {
   "cell_type": "code",
   "execution_count": 21,
   "metadata": {},
   "outputs": [],
   "source": [
    "from keras.layers import Flatten\n",
    "from keras.layers.convolutional import Conv2D\n",
    "from keras.layers.convolutional import MaxPooling2D\n",
    "\n"
   ]
  },
  {
   "cell_type": "code",
   "execution_count": 22,
   "metadata": {},
   "outputs": [],
   "source": [
    "X_train = X_train.reshape((X_train.shape[0], 28, 28, 1)).astype('float32')\n",
    "X_test = X_test.reshape((X_test.shape[0], 28, 28, 1)).astype('float32')\n",
    "X_valid = X_valid.reshape((X_valid.shape[0], 28, 28, 1)).astype('float32')\n",
    "# normalize inputs from 0-255 to 0-1\n",
    "X_train = X_train / 255\n",
    "X_test = X_test / 255\n",
    "X_valid = X_valid / 255"
   ]
  },
  {
   "cell_type": "code",
   "execution_count": 23,
   "metadata": {},
   "outputs": [],
   "source": [
    "def baseline_model():\n",
    "    # create model\n",
    "    model = Sequential()\n",
    "    model.add(Conv2D(16, (5, 5), input_shape=(28, 28, 1), activation='relu'))\n",
    "    model.add(MaxPooling2D(2,2))\n",
    "    model.add(Dropout(0.2))\n",
    "    model.add(Flatten())\n",
    "    model.add(Dense(512, activation='relu'))\n",
    "    model.add(Dense(128, activation='relu'))\n",
    "    model.add(Dense(num_classes, activation='softmax'))\n",
    "    # Compile model\n",
    "    model.compile(loss='categorical_crossentropy', optimizer='adam', metrics=['accuracy'])\n",
    "    return model"
   ]
  },
  {
   "cell_type": "code",
   "execution_count": 8,
   "metadata": {},
   "outputs": [
    {
     "name": "stdout",
     "output_type": "stream",
     "text": [
      "Train on 7000 samples, validate on 7000 samples\n",
      "Epoch 1/10\n",
      "7000/7000 [==============================] - 18s 3ms/step - loss: 2.0103 - accuracy: 0.2554 - val_loss: 1.5161 - val_accuracy: 0.5000\n",
      "Epoch 2/10\n",
      "7000/7000 [==============================] - 15s 2ms/step - loss: 1.1392 - accuracy: 0.6214 - val_loss: 1.0745 - val_accuracy: 0.6469\n",
      "Epoch 3/10\n",
      "7000/7000 [==============================] - 15s 2ms/step - loss: 0.8815 - accuracy: 0.7071 - val_loss: 0.8813 - val_accuracy: 0.7307\n",
      "Epoch 4/10\n",
      "7000/7000 [==============================] - 15s 2ms/step - loss: 0.8016 - accuracy: 0.7367 - val_loss: 0.7619 - val_accuracy: 0.7621\n",
      "Epoch 5/10\n",
      "7000/7000 [==============================] - 15s 2ms/step - loss: 0.7519 - accuracy: 0.7540 - val_loss: 0.7444 - val_accuracy: 0.7749\n",
      "Epoch 6/10\n",
      "7000/7000 [==============================] - 15s 2ms/step - loss: 0.7130 - accuracy: 0.7680 - val_loss: 0.7276 - val_accuracy: 0.7727\n",
      "Epoch 7/10\n",
      "7000/7000 [==============================] - 14s 2ms/step - loss: 0.6725 - accuracy: 0.7806 - val_loss: 0.6727 - val_accuracy: 0.7921\n",
      "Epoch 8/10\n",
      "7000/7000 [==============================] - 14s 2ms/step - loss: 0.6369 - accuracy: 0.7936 - val_loss: 0.6536 - val_accuracy: 0.7971\n",
      "Epoch 9/10\n",
      "7000/7000 [==============================] - 15s 2ms/step - loss: 0.6175 - accuracy: 0.7979 - val_loss: 0.6470 - val_accuracy: 0.7991\n",
      "Epoch 10/10\n",
      "7000/7000 [==============================] - 14s 2ms/step - loss: 0.5979 - accuracy: 0.8004 - val_loss: 0.6581 - val_accuracy: 0.7950\n",
      "21780/21780 [==============================] - 4s 183us/step\n",
      ".\n",
      "CNN Error: 19.81%\n",
      "\n",
      "accuracy: 80.19%\n"
     ]
    }
   ],
   "source": [
    "# build the model\n",
    "model = baseline_model()\n",
    "# Fit the model\n",
    "cnn_history = model.fit(X_train, Y_train, validation_data=(X_valid, Y_valid), epochs=10, batch_size=16)\n",
    "# Final evaluation of the model\n",
    "cnn_scores = model.evaluate(X_test, Y_test, verbose=1)\n",
    "print(\".\")\n",
    "print(\"CNN Error: %.2f%%\" % (100-cnn_scores[1]*100))\n",
    "print(\"\\n%s: %.2f%%\" % (model.metrics_names[1], cnn_scores[1]*100))"
   ]
  },
  {
   "cell_type": "code",
   "execution_count": 9,
   "metadata": {},
   "outputs": [
    {
     "data": {
      "image/png": "[encoded data removed]",
      "text/plain": [
       "<Figure size 432x288 with 1 Axes>"
      ]
     },
     "metadata": {
      "needs_background": "light"
     },
     "output_type": "display_data"
    },
    {
     "data": {
      "image/png": "[encoded data removed]",
      "text/plain": [
       "<Figure size 432x288 with 1 Axes>"
      ]
     },
     "metadata": {
      "needs_background": "light"
     },
     "output_type": "display_data"
    }
   ],
   "source": [
    "plt.plot(cnn_history.history['accuracy'])\n",
    "plt.title('CNN Model Accuracy')\n",
    "plt.xlabel('Epoch')\n",
    "plt.ylabel('Accuracy')\n",
    "plt.show()\n",
    "\n",
    "plt.plot(cnn_history.history['loss'])\n",
    "plt.title('CNN Model Loss')\n",
    "plt.xlabel('Epoch')\n",
    "plt.ylabel('Loss')\n",
    "plt.show()"
   ]
  },
  {
   "cell_type": "markdown",
   "metadata": {},
   "source": [
    "# Task 2: Transfer Learning using Pre-Trained ConvNets"
   ]
  },
  {
   "cell_type": "markdown",
   "metadata": {},
   "source": [
    "# Fine Tuning"
   ]
  },
  {
   "cell_type": "code",
   "execution_count": 10,
   "metadata": {},
   "outputs": [],
   "source": [
    "from tensorflow.keras.applications.vgg16 import VGG16\n",
    "import cv2\n",
    "from tensorflow.keras import Input\n",
    "from tensorflow.keras import models\n",
    "from tensorflow.keras import layers\n",
    "from tensorflow.keras import optimizers\n",
    "import numpy as np"
   ]
  },
  {
   "cell_type": "code",
   "execution_count": 11,
   "metadata": {},
   "outputs": [],
   "source": [
    "vgg_conv = VGG16(weights=None, include_top=False, input_shape=(32,32,1))"
   ]
  },
  {
   "cell_type": "code",
   "execution_count": 12,
   "metadata": {},
   "outputs": [],
   "source": [
    "for layer in vgg_conv.layers[:-4]:\n",
    "    layer.trainable = False"
   ]
  },
  {
   "cell_type": "code",
   "execution_count": 13,
   "metadata": {},
   "outputs": [],
   "source": [
    "# Create the model\n",
    "model = models.Sequential()\n",
    "\n",
    "# Add the vgg convolutional base model\n",
    "model.add(vgg_conv)\n",
    "\n",
    "#Add new layers\n",
    "model.add(layers.Flatten())\n",
    "model.add(layers.Dense(1024, activation='relu'))\n",
    "model.add(layers.Dropout(0.5))\n",
    "model.add(layers.Dense(3, activation='softmax'))\n",
    "model.compile(loss='categorical_crossentropy', optimizer='adam', metrics=['accuracy'])"
   ]
  },
  {
   "cell_type": "code",
   "execution_count": 15,
   "metadata": {},
   "outputs": [
    {
     "name": "stdout",
     "output_type": "stream",
     "text": [
      "\n"
     ]
    }
   ],
   "source": [
    "#  Error when checking input: expected vgg16_input to have shape (32, 32, 1) but got array with shape (28, 28, 1)\n",
    "#so first we have to change the input layer dimension by 28x28 to minimum 32 x32\n",
    "\n",
    "X_train = np.expand_dims(X_train, axis=0, shape=(32,32,1))\n",
    "X_test = np.expand_dims(X_test, axis=0, shape=(32,32,1))\n",
    "X_valid = np.expand_dims(X_valid, axis=0, shape=(32,32,1))"
   ]
  },
  {
   "cell_type": "code",
   "execution_count": null,
   "metadata": {},
   "outputs": [
    {
     "name": "stdout",
     "output_type": "stream",
     "text": [
      "Train on 7000 samples, validate on 7000 samples\n",
      "Epoch 1/20\n",
      "7000/7000 [==============================] - 17s 2ms/step - loss: 2.3033 - accuracy: 0.0967 - val_loss: 2.3026 - val_accuracy: 0.1000\n",
      "Epoch 2/20\n",
      "7000/7000 [==============================] - 15s 2ms/step - loss: 2.3029 - accuracy: 0.0961 - val_loss: 2.3026 - val_accuracy: 0.1000\n",
      "Epoch 3/20\n",
      "7000/7000 [==============================] - 15s 2ms/step - loss: 2.3030 - accuracy: 0.0953 - val_loss: 2.3026 - val_accuracy: 0.1000\n",
      "Epoch 4/20\n",
      "7000/7000 [==============================] - 15s 2ms/step - loss: 2.3029 - accuracy: 0.0940 - val_loss: 2.3026 - val_accuracy: 0.1000\n",
      "Epoch 5/20\n",
      "7000/7000 [==============================] - 15s 2ms/step - loss: 2.3029 - accuracy: 0.0927 - val_loss: 2.3026 - val_accuracy: 0.1000\n",
      "Epoch 6/20\n",
      "6528/7000 [==========================>...] - ETA: 0s - loss: 2.3029 - accuracy: 0.0936"
     ]
    }
   ],
   "source": [
    "transfer_history = model.fit(X_train, Y_train, validation_data=(X_valid, Y_valid), epochs=10, batch_size=10)\n",
    "# Final evaluation of the model\n",
    "transfer_scores = model.evaluate(X_test, Y_test, verbose=1)\n",
    "print(\".\")\n",
    "print(\"CNN Error: %.2f%%\" % (100-transfer_scores[1]*100))\n",
    "print(\"\\n%s: %.2f%%\" % (model.metrics_names[1], transfer_scores[1]*100))"
   ]
  },
  {
   "cell_type": "code",
   "execution_count": null,
   "metadata": {},
   "outputs": [],
   "source": [
    "plt.plot(transfer_history.history['accuracy'])\n",
    "plt.title('CNN Model Accuracy')\n",
    "plt.xlabel('Epoch')\n",
    "plt.ylabel('Accuracy')\n",
    "plt.show()\n",
    "\n",
    "plt.plot(transfer_history.history['loss'])\n",
    "plt.title('CNN Model Loss')\n",
    "plt.xlabel('Epoch')\n",
    "plt.ylabel('Loss')\n",
    "plt.show()"
   ]
  }
 ],
 "metadata": {
  "kernelspec": {
   "display_name": "Python 3 (ipykernel)",
   "language": "python",
   "name": "python3"
  },
  "language_info": {
   "codemirror_mode": {
    "name": "ipython",
    "version": 3
   },
   "file_extension": ".py",
   "mimetype": "text/x-python",
   "name": "python",
   "nbconvert_exporter": "python",
   "pygments_lexer": "ipython3",
   "version": "3.8.2"
  }
 },
 "nbformat": 4,
 "nbformat_minor": 2
}
